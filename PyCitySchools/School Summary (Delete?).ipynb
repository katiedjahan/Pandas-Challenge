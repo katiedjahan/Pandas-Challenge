{
 "cells": [
  {
   "cell_type": "code",
   "execution_count": null,
   "id": "077749fc",
   "metadata": {},
   "outputs": [],
   "source": [
    "# Import\n",
    "import pandas as pd\n",
    "\n",
    "# Load csv file\n",
    "\n",
    "\n",
    "# Read csv file and store into Pandas DataFrame\n",
    "\n",
    "\n",
    "# Combine the data into a single dataset\n"
   ]
  },
  {
   "cell_type": "code",
   "execution_count": null,
   "id": "c844a248",
   "metadata": {},
   "outputs": [],
   "source": []
  },
  {
   "cell_type": "code",
   "execution_count": null,
   "id": "22a78512",
   "metadata": {},
   "outputs": [],
   "source": [
    "# School name and type\n"
   ]
  },
  {
   "cell_type": "code",
   "execution_count": null,
   "id": "742c1bdf",
   "metadata": {},
   "outputs": [],
   "source": [
    "# Total student count\n"
   ]
  },
  {
   "cell_type": "code",
   "execution_count": null,
   "id": "cedd3fdf",
   "metadata": {},
   "outputs": [],
   "source": [
    "# Total school budget and per student spending\n"
   ]
  },
  {
   "cell_type": "code",
   "execution_count": null,
   "id": "cb9ca7c7",
   "metadata": {},
   "outputs": [],
   "source": [
    "# Average math and reading scores (separately)\n"
   ]
  },
  {
   "cell_type": "code",
   "execution_count": null,
   "id": "763e1720",
   "metadata": {},
   "outputs": [],
   "source": [
    "# Percentage of schools passing math (scores >= 70)\n"
   ]
  },
  {
   "cell_type": "code",
   "execution_count": null,
   "id": "950c7061",
   "metadata": {},
   "outputs": [],
   "source": [
    "# Percentage of schools passing reading (scores >= 70)\n"
   ]
  },
  {
   "cell_type": "code",
   "execution_count": null,
   "id": "06c6da2f",
   "metadata": {},
   "outputs": [],
   "source": [
    "# Percentage of schools passing math AND reading (scores >= 70)\n"
   ]
  },
  {
   "cell_type": "code",
   "execution_count": null,
   "id": "657b975c",
   "metadata": {},
   "outputs": [],
   "source": []
  },
  {
   "cell_type": "code",
   "execution_count": null,
   "id": "9596eea1",
   "metadata": {},
   "outputs": [],
   "source": [
    "# Create a DataFrame caled 'per_school_summary' with columns for the calculations above\n",
    "\n",
    "\n",
    "# Formatting\n",
    "\n",
    "\n",
    "# Display the DataFrame"
   ]
  },
  {
   "cell_type": "code",
   "execution_count": null,
   "id": "cde25a1f",
   "metadata": {},
   "outputs": [],
   "source": []
  },
  {
   "cell_type": "code",
   "execution_count": null,
   "id": "df9d56fa",
   "metadata": {},
   "outputs": [],
   "source": []
  },
  {
   "cell_type": "code",
   "execution_count": null,
   "id": "6e28e4e0",
   "metadata": {},
   "outputs": [],
   "source": [
    "## Highest-Performing Schools (by % Overall Passing)\n",
    "# Sort the schools by \"% Overall Passing\" in descending order and display the top 5 rows\n"
   ]
  },
  {
   "cell_type": "code",
   "execution_count": null,
   "id": "ebbdb408",
   "metadata": {},
   "outputs": [],
   "source": []
  },
  {
   "cell_type": "code",
   "execution_count": null,
   "id": "43b1a2d1",
   "metadata": {},
   "outputs": [],
   "source": []
  },
  {
   "cell_type": "code",
   "execution_count": null,
   "id": "4f0cafa5",
   "metadata": {},
   "outputs": [],
   "source": [
    "## Bottom Performing Schools (by % Overall Passing)\n",
    "# Sort the schools by \"% Overall Passing\" in ascending order and display the top 5 rows\n"
   ]
  },
  {
   "cell_type": "code",
   "execution_count": null,
   "id": "55cf1982",
   "metadata": {},
   "outputs": [],
   "source": []
  },
  {
   "cell_type": "code",
   "execution_count": null,
   "id": "89fb7f4e",
   "metadata": {},
   "outputs": [],
   "source": []
  },
  {
   "cell_type": "code",
   "execution_count": null,
   "id": "080a81fb",
   "metadata": {},
   "outputs": [],
   "source": [
    "## Math Scores by Grade\n",
    "# Separate the data by grade\n",
    "\n",
    "\n",
    "# Group by \"school name\" and take the mean of each\n",
    "\n",
    "\n",
    "# Select only the math score\n",
    "\n",
    "\n",
    "# Combine each of the scores above into a single DataFrame\n",
    "\n",
    "\n",
    "# Minor data wrangling\n",
    "\n",
    "\n",
    "# Display the DataFrame\n"
   ]
  },
  {
   "cell_type": "code",
   "execution_count": null,
   "id": "920a774a",
   "metadata": {},
   "outputs": [],
   "source": []
  },
  {
   "cell_type": "code",
   "execution_count": null,
   "id": "931535f9",
   "metadata": {},
   "outputs": [],
   "source": []
  },
  {
   "cell_type": "code",
   "execution_count": null,
   "id": "d94b032d",
   "metadata": {},
   "outputs": [],
   "source": [
    "## Reading Scores by Grade\n",
    "# Separate the data by grade\n",
    "\n",
    "\n",
    "# Group by \"school name\" and take the mean of each\n",
    "\n",
    "\n",
    "# Select only the reading score\n",
    "\n",
    "\n",
    "# Combine each of the scores above into a single DataFrame\n",
    "\n",
    "\n",
    "# Minor data wrangling\n",
    "\n",
    "\n",
    "# Display the DataFrame\n"
   ]
  },
  {
   "cell_type": "code",
   "execution_count": null,
   "id": "a0df2aca",
   "metadata": {},
   "outputs": [],
   "source": []
  },
  {
   "cell_type": "code",
   "execution_count": null,
   "id": "5ca8753a",
   "metadata": {},
   "outputs": [],
   "source": []
  },
  {
   "cell_type": "code",
   "execution_count": null,
   "id": "0aa616c3",
   "metadata": {},
   "outputs": [],
   "source": [
    "## Scores by School Spending\n",
    "# Establish the bins\n"
   ]
  },
  {
   "cell_type": "code",
   "execution_count": null,
   "id": "688501a6",
   "metadata": {},
   "outputs": [],
   "source": [
    "# Create a copy of the school summary since it has the \"Per Student Budget\"\n"
   ]
  },
  {
   "cell_type": "code",
   "execution_count": null,
   "id": "5cfdb9ca",
   "metadata": {},
   "outputs": [],
   "source": [
    "# Use 'pd.cut' to categorize spending based on the bins\n"
   ]
  },
  {
   "cell_type": "code",
   "execution_count": null,
   "id": "865bded4",
   "metadata": {},
   "outputs": [],
   "source": [
    "# Calculate averages for the desired columns\n"
   ]
  },
  {
   "cell_type": "code",
   "execution_count": null,
   "id": "874d4ef8",
   "metadata": {},
   "outputs": [],
   "source": [
    "# Assemble into DataFrame\n",
    "\n",
    "\n",
    "# Display results\n"
   ]
  },
  {
   "cell_type": "code",
   "execution_count": null,
   "id": "f9dd5e49",
   "metadata": {},
   "outputs": [],
   "source": []
  },
  {
   "cell_type": "code",
   "execution_count": null,
   "id": "5f465190",
   "metadata": {},
   "outputs": [],
   "source": []
  },
  {
   "cell_type": "code",
   "execution_count": null,
   "id": "e5526a98",
   "metadata": {},
   "outputs": [],
   "source": [
    "## Scores by School Size\n",
    "# Establish the bins\n"
   ]
  },
  {
   "cell_type": "code",
   "execution_count": null,
   "id": "9b39d1df",
   "metadata": {},
   "outputs": [],
   "source": [
    "# Categorize the spending based on the bins\n",
    "# Use 'pd.cut' on the \"Total Students\" columns of the 'per_school_summary' DataFrame\n"
   ]
  },
  {
   "cell_type": "code",
   "execution_count": null,
   "id": "db600e1f",
   "metadata": {},
   "outputs": [],
   "source": [
    "# Calculate averages for the desired columns\n"
   ]
  },
  {
   "cell_type": "code",
   "execution_count": null,
   "id": "4bef5278",
   "metadata": {},
   "outputs": [],
   "source": [
    "# Create a DataFrame called 'size_summary' that breaks down school performance based on school size (small, medium, large)\n",
    "# Use the scores above to crease a new DataFrame called 'size_summary'\n",
    "\n",
    "\n",
    "# Display results\n"
   ]
  },
  {
   "cell_type": "code",
   "execution_count": null,
   "id": "b6b20532",
   "metadata": {},
   "outputs": [],
   "source": []
  },
  {
   "cell_type": "code",
   "execution_count": null,
   "id": "26426adb",
   "metadata": {},
   "outputs": [],
   "source": []
  },
  {
   "cell_type": "code",
   "execution_count": null,
   "id": "684c0e1a",
   "metadata": {},
   "outputs": [],
   "source": [
    "## Scores by School Type\n",
    "# Group the per_school_summary DataFrame by \"School Type\" and average the results\n",
    "\n",
    "\n",
    "# Select new column data\n"
   ]
  },
  {
   "cell_type": "code",
   "execution_count": null,
   "id": "ad778e09",
   "metadata": {},
   "outputs": [],
   "source": [
    "# Assemble the new data by type into a DataFrame called 'type_summary'\n",
    "\n",
    "\n",
    "# Display results\n"
   ]
  }
 ],
 "metadata": {
  "kernelspec": {
   "display_name": "PythonData",
   "language": "python",
   "name": "pythondata"
  },
  "language_info": {
   "codemirror_mode": {
    "name": "ipython",
    "version": 3
   },
   "file_extension": ".py",
   "mimetype": "text/x-python",
   "name": "python",
   "nbconvert_exporter": "python",
   "pygments_lexer": "ipython3",
   "version": "3.7.7"
  }
 },
 "nbformat": 4,
 "nbformat_minor": 5
}
