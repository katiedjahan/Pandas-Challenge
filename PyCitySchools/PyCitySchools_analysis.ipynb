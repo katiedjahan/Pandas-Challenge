{
 "cells": [
  {
   "cell_type": "code",
   "execution_count": null,
   "id": "d2d71b76",
   "metadata": {},
   "outputs": [],
   "source": [
    "# Import\n",
    "import pandas as pd\n",
    "\n",
    "# Load csv file\n",
    "\n",
    "\n",
    "# Read csv file and store into Pandas DataFrame\n",
    "\n",
    "\n",
    "# Combine the data into a single dataset\n"
   ]
  },
  {
   "cell_type": "code",
   "execution_count": null,
   "id": "883595f3",
   "metadata": {},
   "outputs": [],
   "source": []
  },
  {
   "cell_type": "code",
   "execution_count": null,
   "id": "ae18977f",
   "metadata": {},
   "outputs": [],
   "source": [
    "## District Summary"
   ]
  },
  {
   "cell_type": "code",
   "execution_count": null,
   "id": "b8f3ff82",
   "metadata": {},
   "outputs": [],
   "source": [
    "# Total number of unique schools\n"
   ]
  },
  {
   "cell_type": "code",
   "execution_count": null,
   "id": "b2693c74",
   "metadata": {},
   "outputs": [],
   "source": [
    "# Total students\n"
   ]
  },
  {
   "cell_type": "code",
   "execution_count": null,
   "id": "bd818fbd",
   "metadata": {},
   "outputs": [],
   "source": [
    "# Total budget\n"
   ]
  },
  {
   "cell_type": "code",
   "execution_count": null,
   "id": "e12e32f7",
   "metadata": {},
   "outputs": [],
   "source": [
    "# Average math score\n"
   ]
  },
  {
   "cell_type": "code",
   "execution_count": null,
   "id": "d0387338",
   "metadata": {},
   "outputs": [],
   "source": [
    "# Average reading score\n"
   ]
  },
  {
   "cell_type": "code",
   "execution_count": null,
   "id": "f4dfc977",
   "metadata": {},
   "outputs": [],
   "source": [
    "# Percentage of students passing math (math scores >= 70)\n"
   ]
  },
  {
   "cell_type": "code",
   "execution_count": null,
   "id": "6e9a867d",
   "metadata": {},
   "outputs": [],
   "source": [
    "# Percentage of students passing reading (reading scores >= 70)\n"
   ]
  },
  {
   "cell_type": "code",
   "execution_count": null,
   "id": "b0a89f44",
   "metadata": {},
   "outputs": [],
   "source": [
    "# Percentage of students passing math AND reading (overall passing) (math & reading scores >= 70)\n"
   ]
  },
  {
   "cell_type": "code",
   "execution_count": null,
   "id": "5f66fe9c",
   "metadata": {},
   "outputs": [],
   "source": [
    "# Create a high-level snapshot of the district's key metrics in a DataFrame\n"
   ]
  },
  {
   "cell_type": "code",
   "execution_count": null,
   "id": "c5996e93",
   "metadata": {},
   "outputs": [],
   "source": []
  },
  {
   "cell_type": "code",
   "execution_count": null,
   "id": "2696cc71",
   "metadata": {},
   "outputs": [],
   "source": []
  },
  {
   "cell_type": "code",
   "execution_count": null,
   "id": "1b1054d8",
   "metadata": {},
   "outputs": [],
   "source": [
    "## School Summary"
   ]
  },
  {
   "cell_type": "code",
   "execution_count": null,
   "id": "26c649f0",
   "metadata": {},
   "outputs": [],
   "source": [
    "# School name and type\n"
   ]
  },
  {
   "cell_type": "code",
   "execution_count": null,
   "id": "b6f0c689",
   "metadata": {},
   "outputs": [],
   "source": [
    "# Total student count\n"
   ]
  },
  {
   "cell_type": "code",
   "execution_count": null,
   "id": "c50be9d1",
   "metadata": {},
   "outputs": [],
   "source": [
    "# Total school budget and per student spending\n"
   ]
  },
  {
   "cell_type": "code",
   "execution_count": null,
   "id": "186c42c5",
   "metadata": {},
   "outputs": [],
   "source": [
    "# Average math and reading scores (separately)\n"
   ]
  },
  {
   "cell_type": "code",
   "execution_count": null,
   "id": "deb40f9c",
   "metadata": {},
   "outputs": [],
   "source": [
    "# Percentage of schools passing math (scores >= 70)\n"
   ]
  },
  {
   "cell_type": "code",
   "execution_count": null,
   "id": "9320300c",
   "metadata": {},
   "outputs": [],
   "source": [
    "# Percentage of schools passing reading (scores >= 70)\n"
   ]
  },
  {
   "cell_type": "code",
   "execution_count": null,
   "id": "6a2127cf",
   "metadata": {},
   "outputs": [],
   "source": [
    "# Percentage of schools passing math AND reading (scores >= 70)\n"
   ]
  },
  {
   "cell_type": "code",
   "execution_count": null,
   "id": "767cbc4d",
   "metadata": {},
   "outputs": [],
   "source": [
    "# Create a DataFrame caled 'per_school_summary' with columns for the calculations above\n",
    "\n",
    "\n",
    "# Formatting\n",
    "\n",
    "\n",
    "# Display the DataFrame"
   ]
  },
  {
   "cell_type": "code",
   "execution_count": null,
   "id": "4cec106e",
   "metadata": {},
   "outputs": [],
   "source": []
  },
  {
   "cell_type": "code",
   "execution_count": null,
   "id": "1d26572b",
   "metadata": {},
   "outputs": [],
   "source": []
  },
  {
   "cell_type": "code",
   "execution_count": null,
   "id": "9521c08a",
   "metadata": {},
   "outputs": [],
   "source": [
    "## Highest-Performing Schools (by % Overall Passing)"
   ]
  },
  {
   "cell_type": "code",
   "execution_count": null,
   "id": "d237b52d",
   "metadata": {},
   "outputs": [],
   "source": [
    "# Sort the schools by \"% Overall Passing\" in descending order and display the top 5 rows\n"
   ]
  },
  {
   "cell_type": "code",
   "execution_count": null,
   "id": "7f0873b9",
   "metadata": {},
   "outputs": [],
   "source": []
  },
  {
   "cell_type": "code",
   "execution_count": null,
   "id": "0a5cc960",
   "metadata": {},
   "outputs": [],
   "source": []
  },
  {
   "cell_type": "code",
   "execution_count": null,
   "id": "2af11875",
   "metadata": {},
   "outputs": [],
   "source": [
    "## Bottom Performing Schools (by % Overall Passing)"
   ]
  },
  {
   "cell_type": "code",
   "execution_count": null,
   "id": "241f62b3",
   "metadata": {},
   "outputs": [],
   "source": [
    "# Sort the schools by \"% Overall Passing\" in ascending order and display the top 5 rows\n"
   ]
  },
  {
   "cell_type": "code",
   "execution_count": null,
   "id": "9bb6921c",
   "metadata": {},
   "outputs": [],
   "source": []
  },
  {
   "cell_type": "code",
   "execution_count": null,
   "id": "5207bf0a",
   "metadata": {},
   "outputs": [],
   "source": []
  },
  {
   "cell_type": "code",
   "execution_count": null,
   "id": "eb3de5be",
   "metadata": {},
   "outputs": [],
   "source": [
    "## Math Scores by Grade"
   ]
  },
  {
   "cell_type": "code",
   "execution_count": null,
   "id": "bea51e9e",
   "metadata": {},
   "outputs": [],
   "source": [
    "# Separate the data by grade\n",
    "\n",
    "\n",
    "# Group by \"school name\" and take the mean of each\n",
    "\n",
    "\n",
    "# Select only the math score\n",
    "\n",
    "\n",
    "# Combine each of the scores above into a single DataFrame\n",
    "\n",
    "\n",
    "# Minor data wrangling\n",
    "\n",
    "\n",
    "# Display the DataFrame\n"
   ]
  },
  {
   "cell_type": "code",
   "execution_count": null,
   "id": "3aec492e",
   "metadata": {},
   "outputs": [],
   "source": []
  },
  {
   "cell_type": "code",
   "execution_count": null,
   "id": "fd47836d",
   "metadata": {},
   "outputs": [],
   "source": []
  },
  {
   "cell_type": "code",
   "execution_count": null,
   "id": "7492be00",
   "metadata": {},
   "outputs": [],
   "source": [
    "## Reading Scores by Grade"
   ]
  },
  {
   "cell_type": "code",
   "execution_count": null,
   "id": "70ed1115",
   "metadata": {},
   "outputs": [],
   "source": [
    "# Separate the data by grade\n",
    "\n",
    "\n",
    "# Group by \"school name\" and take the mean of each\n",
    "\n",
    "\n",
    "# Select only the reading score\n",
    "\n",
    "\n",
    "# Combine each of the scores above into a single DataFrame\n",
    "\n",
    "\n",
    "# Minor data wrangling\n",
    "\n",
    "\n",
    "# Display the DataFrame\n"
   ]
  },
  {
   "cell_type": "code",
   "execution_count": null,
   "id": "d27fa858",
   "metadata": {},
   "outputs": [],
   "source": []
  },
  {
   "cell_type": "code",
   "execution_count": null,
   "id": "9c536abb",
   "metadata": {},
   "outputs": [],
   "source": []
  },
  {
   "cell_type": "code",
   "execution_count": null,
   "id": "50ed8b14",
   "metadata": {},
   "outputs": [],
   "source": [
    "## Scores by School Spending"
   ]
  },
  {
   "cell_type": "code",
   "execution_count": null,
   "id": "de0a99f8",
   "metadata": {},
   "outputs": [],
   "source": [
    "# Establish the bins\n"
   ]
  },
  {
   "cell_type": "code",
   "execution_count": null,
   "id": "0de5feb8",
   "metadata": {},
   "outputs": [],
   "source": [
    "# Create a copy of the school summary since it has the \"Per Student Budget\"\n"
   ]
  },
  {
   "cell_type": "code",
   "execution_count": null,
   "id": "b16c9a29",
   "metadata": {},
   "outputs": [],
   "source": [
    "# Use 'pd.cut' to categorize spending based on the bins\n"
   ]
  },
  {
   "cell_type": "code",
   "execution_count": null,
   "id": "b5d49d94",
   "metadata": {},
   "outputs": [],
   "source": [
    "# Calculate averages for the desired columns\n"
   ]
  },
  {
   "cell_type": "code",
   "execution_count": null,
   "id": "986f7280",
   "metadata": {},
   "outputs": [],
   "source": [
    "# Assemble into DataFrame\n",
    "\n",
    "\n",
    "# Display results\n"
   ]
  },
  {
   "cell_type": "code",
   "execution_count": null,
   "id": "4af9f203",
   "metadata": {},
   "outputs": [],
   "source": []
  },
  {
   "cell_type": "code",
   "execution_count": null,
   "id": "87d6fcc8",
   "metadata": {},
   "outputs": [],
   "source": []
  },
  {
   "cell_type": "code",
   "execution_count": null,
   "id": "e367f1a1",
   "metadata": {},
   "outputs": [],
   "source": [
    "## Scores by School Size"
   ]
  },
  {
   "cell_type": "code",
   "execution_count": null,
   "id": "1565f50e",
   "metadata": {},
   "outputs": [],
   "source": [
    "# Establish the bins\n"
   ]
  },
  {
   "cell_type": "code",
   "execution_count": null,
   "id": "e0ee0a61",
   "metadata": {},
   "outputs": [],
   "source": [
    "# Categorize the spending based on the bins\n",
    "# Use 'pd.cut' on the \"Total Students\" columns of the 'per_school_summary' DataFrame\n"
   ]
  },
  {
   "cell_type": "code",
   "execution_count": null,
   "id": "49786b5d",
   "metadata": {},
   "outputs": [],
   "source": [
    "# Calculate averages for the desired columns\n"
   ]
  },
  {
   "cell_type": "code",
   "execution_count": null,
   "id": "962c011c",
   "metadata": {},
   "outputs": [],
   "source": [
    "# Create a DataFrame called 'size_summary' that breaks down school performance based on school size (sm, med, large)\n",
    "# Use the scores above to crease a new DataFrame called 'size_summary'\n",
    "\n",
    "\n",
    "# Display results\n"
   ]
  },
  {
   "cell_type": "code",
   "execution_count": null,
   "id": "621b0d26",
   "metadata": {},
   "outputs": [],
   "source": []
  },
  {
   "cell_type": "code",
   "execution_count": null,
   "id": "cbeb03e6",
   "metadata": {},
   "outputs": [],
   "source": []
  },
  {
   "cell_type": "code",
   "execution_count": null,
   "id": "2c934540",
   "metadata": {},
   "outputs": [],
   "source": [
    "## Scores by School Type"
   ]
  },
  {
   "cell_type": "code",
   "execution_count": null,
   "id": "e9cb2130",
   "metadata": {},
   "outputs": [],
   "source": [
    "# Group the per_school_summary DataFrame by \"School Type\" and average the results\n",
    "\n",
    "\n",
    "# Select new column data\n"
   ]
  },
  {
   "cell_type": "code",
   "execution_count": null,
   "id": "01a00d4b",
   "metadata": {},
   "outputs": [],
   "source": [
    "# Assemble the new data by type into a DataFrame called 'type_summary'\n",
    "\n",
    "\n",
    "# Display results\n"
   ]
  }
 ],
 "metadata": {
  "kernelspec": {
   "display_name": "PythonData",
   "language": "python",
   "name": "pythondata"
  },
  "language_info": {
   "codemirror_mode": {
    "name": "ipython",
    "version": 3
   },
   "file_extension": ".py",
   "mimetype": "text/x-python",
   "name": "python",
   "nbconvert_exporter": "python",
   "pygments_lexer": "ipython3",
   "version": "3.7.7"
  }
 },
 "nbformat": 4,
 "nbformat_minor": 5
}
